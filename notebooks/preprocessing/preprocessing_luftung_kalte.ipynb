{
 "cells": [
  {
   "cell_type": "code",
   "execution_count": 1,
   "metadata": {},
   "outputs": [],
   "source": [
    "#!pip3 install pandas\n",
    "#!pip3 install seaborn\n",
    "#!pip3 install holidays\n",
    "#!pip3 install xgboost\n",
    "#!pip3 install holidays\n",
    "#!pip3 install sklearn"
   ]
  },
  {
   "cell_type": "code",
   "execution_count": 2,
   "metadata": {},
   "outputs": [],
   "source": [
    "import pandas as pd\n",
    "import numpy as np\n",
    "import matplotlib.pyplot as plt\n",
    "import seaborn as sns\n",
    "import holidays\n",
    "import datetime\n",
    "\n",
    "import xgboost as xgb\n",
    "from sklearn.model_selection import train_test_split\n",
    "from sklearn.metrics import mean_squared_error\n",
    "color_pal = sns.color_palette()\n",
    "plt.style.use('fivethirtyeight')\n",
    "\n",
    "holidays_AT = holidays.country_holidays('AT')"
   ]
  },
  {
   "cell_type": "markdown",
   "metadata": {},
   "source": [
    "## Loading data"
   ]
  },
  {
   "cell_type": "markdown",
   "metadata": {},
   "source": [
    "Loading the weather dataset"
   ]
  },
  {
   "cell_type": "code",
   "execution_count": 3,
   "metadata": {},
   "outputs": [],
   "source": [
    "graz_weather_df = pd.read_csv(\"../../data/graz_weather.csv\",delimiter=',',header=9,encoding='UTF-8')"
   ]
  },
  {
   "cell_type": "markdown",
   "metadata": {},
   "source": [
    "Keeping only the relative weather data"
   ]
  },
  {
   "cell_type": "code",
   "execution_count": 4,
   "metadata": {},
   "outputs": [
    {
     "name": "stdout",
     "output_type": "stream",
     "text": [
      "Index(['timestamp', 'Graz Temperature [2 m elevation corrected]',\n",
      "       'Graz Sunshine Duration', 'Graz Shortwave Radiation',\n",
      "       'Graz Direct Shortwave Radiation', 'Graz Diffuse Shortwave Radiation',\n",
      "       'Graz Precipitation Total', 'Graz Snowfall Amount',\n",
      "       'Graz Relative Humidity [2 m]', 'Graz Cloud Cover Total',\n",
      "       'Graz Wind Speed [10 m]', 'Graz Wind Direction [10 m]'],\n",
      "      dtype='object')\n"
     ]
    }
   ],
   "source": [
    "print(graz_weather_df.columns)"
   ]
  },
  {
   "cell_type": "code",
   "execution_count": 5,
   "metadata": {},
   "outputs": [],
   "source": [
    "graz_weather_df = graz_weather_df[['timestamp', 'Graz Temperature [2 m elevation corrected]','Graz Shortwave Radiation',\n",
    "'Graz Direct Shortwave Radiation', 'Graz Diffuse Shortwave Radiation','Graz Relative Humidity [2 m]']]"
   ]
  },
  {
   "cell_type": "markdown",
   "metadata": {},
   "source": [
    "Converting the timestamp to the same format as that used in the energy datasets"
   ]
  },
  {
   "cell_type": "code",
   "execution_count": 6,
   "metadata": {},
   "outputs": [],
   "source": [
    "def parse_weather_timestamp(timestamp):\n",
    "    return(timestamp[6:8]+ '.' + timestamp[4:6] + '.' + timestamp[2:4] + ' ' + timestamp[9:11] + ':' + timestamp[11:])"
   ]
  },
  {
   "cell_type": "code",
   "execution_count": 7,
   "metadata": {},
   "outputs": [],
   "source": [
    "def timestamp_to_datetime(timestamp):\n",
    "    date_str = timestamp.split(' ')[0]\n",
    "    time_str = timestamp.split(' ')[1]\n",
    "    datetime_obj = datetime.datetime(int('20'+date_str.split('.')[2]), int(date_str.split('.')[1] ), int(date_str.split('.')[0]),int(time_str[:2]), int(time_str[-2:]))\n",
    "    return datetime_obj\n",
    "    "
   ]
  },
  {
   "cell_type": "code",
   "execution_count": 8,
   "metadata": {},
   "outputs": [
    {
     "data": {
      "text/html": [
       "<div>\n",
       "<style scoped>\n",
       "    .dataframe tbody tr th:only-of-type {\n",
       "        vertical-align: middle;\n",
       "    }\n",
       "\n",
       "    .dataframe tbody tr th {\n",
       "        vertical-align: top;\n",
       "    }\n",
       "\n",
       "    .dataframe thead th {\n",
       "        text-align: right;\n",
       "    }\n",
       "</style>\n",
       "<table border=\"1\" class=\"dataframe\">\n",
       "  <thead>\n",
       "    <tr style=\"text-align: right;\">\n",
       "      <th></th>\n",
       "      <th>timestamp</th>\n",
       "      <th>Graz Temperature [2 m elevation corrected]</th>\n",
       "      <th>Graz Shortwave Radiation</th>\n",
       "      <th>Graz Direct Shortwave Radiation</th>\n",
       "      <th>Graz Diffuse Shortwave Radiation</th>\n",
       "      <th>Graz Relative Humidity [2 m]</th>\n",
       "    </tr>\n",
       "  </thead>\n",
       "  <tbody>\n",
       "    <tr>\n",
       "      <th>0</th>\n",
       "      <td>20180101T0000</td>\n",
       "      <td>4.321370</td>\n",
       "      <td>0.00</td>\n",
       "      <td>0.000000</td>\n",
       "      <td>0.000000</td>\n",
       "      <td>73.0</td>\n",
       "    </tr>\n",
       "    <tr>\n",
       "      <th>1</th>\n",
       "      <td>20180101T0100</td>\n",
       "      <td>4.261370</td>\n",
       "      <td>0.00</td>\n",
       "      <td>0.000000</td>\n",
       "      <td>0.000000</td>\n",
       "      <td>65.0</td>\n",
       "    </tr>\n",
       "    <tr>\n",
       "      <th>2</th>\n",
       "      <td>20180101T0200</td>\n",
       "      <td>3.101370</td>\n",
       "      <td>0.00</td>\n",
       "      <td>0.000000</td>\n",
       "      <td>0.000000</td>\n",
       "      <td>69.0</td>\n",
       "    </tr>\n",
       "    <tr>\n",
       "      <th>3</th>\n",
       "      <td>20180101T0300</td>\n",
       "      <td>3.801370</td>\n",
       "      <td>0.00</td>\n",
       "      <td>0.000000</td>\n",
       "      <td>0.000000</td>\n",
       "      <td>66.0</td>\n",
       "    </tr>\n",
       "    <tr>\n",
       "      <th>4</th>\n",
       "      <td>20180101T0400</td>\n",
       "      <td>4.311370</td>\n",
       "      <td>0.00</td>\n",
       "      <td>0.000000</td>\n",
       "      <td>0.000000</td>\n",
       "      <td>67.0</td>\n",
       "    </tr>\n",
       "    <tr>\n",
       "      <th>...</th>\n",
       "      <td>...</td>\n",
       "      <td>...</td>\n",
       "      <td>...</td>\n",
       "      <td>...</td>\n",
       "      <td>...</td>\n",
       "      <td>...</td>\n",
       "    </tr>\n",
       "    <tr>\n",
       "      <th>41635</th>\n",
       "      <td>20221001T1900</td>\n",
       "      <td>18.801370</td>\n",
       "      <td>18.69</td>\n",
       "      <td>9.772658</td>\n",
       "      <td>8.917342</td>\n",
       "      <td>60.0</td>\n",
       "    </tr>\n",
       "    <tr>\n",
       "      <th>41636</th>\n",
       "      <td>20221001T2000</td>\n",
       "      <td>18.121370</td>\n",
       "      <td>0.00</td>\n",
       "      <td>0.000000</td>\n",
       "      <td>0.000000</td>\n",
       "      <td>66.0</td>\n",
       "    </tr>\n",
       "    <tr>\n",
       "      <th>41637</th>\n",
       "      <td>20221001T2100</td>\n",
       "      <td>16.971370</td>\n",
       "      <td>0.00</td>\n",
       "      <td>0.000000</td>\n",
       "      <td>0.000000</td>\n",
       "      <td>68.0</td>\n",
       "    </tr>\n",
       "    <tr>\n",
       "      <th>41638</th>\n",
       "      <td>20221001T2200</td>\n",
       "      <td>15.491369</td>\n",
       "      <td>0.00</td>\n",
       "      <td>0.000000</td>\n",
       "      <td>0.000000</td>\n",
       "      <td>66.0</td>\n",
       "    </tr>\n",
       "    <tr>\n",
       "      <th>41639</th>\n",
       "      <td>20221001T2300</td>\n",
       "      <td>14.221370</td>\n",
       "      <td>0.00</td>\n",
       "      <td>0.000000</td>\n",
       "      <td>0.000000</td>\n",
       "      <td>67.0</td>\n",
       "    </tr>\n",
       "  </tbody>\n",
       "</table>\n",
       "<p>41640 rows × 6 columns</p>\n",
       "</div>"
      ],
      "text/plain": [
       "           timestamp  Graz Temperature [2 m elevation corrected]  \\\n",
       "0      20180101T0000                                    4.321370   \n",
       "1      20180101T0100                                    4.261370   \n",
       "2      20180101T0200                                    3.101370   \n",
       "3      20180101T0300                                    3.801370   \n",
       "4      20180101T0400                                    4.311370   \n",
       "...              ...                                         ...   \n",
       "41635  20221001T1900                                   18.801370   \n",
       "41636  20221001T2000                                   18.121370   \n",
       "41637  20221001T2100                                   16.971370   \n",
       "41638  20221001T2200                                   15.491369   \n",
       "41639  20221001T2300                                   14.221370   \n",
       "\n",
       "       Graz Shortwave Radiation  Graz Direct Shortwave Radiation  \\\n",
       "0                          0.00                         0.000000   \n",
       "1                          0.00                         0.000000   \n",
       "2                          0.00                         0.000000   \n",
       "3                          0.00                         0.000000   \n",
       "4                          0.00                         0.000000   \n",
       "...                         ...                              ...   \n",
       "41635                     18.69                         9.772658   \n",
       "41636                      0.00                         0.000000   \n",
       "41637                      0.00                         0.000000   \n",
       "41638                      0.00                         0.000000   \n",
       "41639                      0.00                         0.000000   \n",
       "\n",
       "       Graz Diffuse Shortwave Radiation  Graz Relative Humidity [2 m]  \n",
       "0                              0.000000                          73.0  \n",
       "1                              0.000000                          65.0  \n",
       "2                              0.000000                          69.0  \n",
       "3                              0.000000                          66.0  \n",
       "4                              0.000000                          67.0  \n",
       "...                                 ...                           ...  \n",
       "41635                          8.917342                          60.0  \n",
       "41636                          0.000000                          66.0  \n",
       "41637                          0.000000                          68.0  \n",
       "41638                          0.000000                          66.0  \n",
       "41639                          0.000000                          67.0  \n",
       "\n",
       "[41640 rows x 6 columns]"
      ]
     },
     "execution_count": 8,
     "metadata": {},
     "output_type": "execute_result"
    }
   ],
   "source": [
    "graz_weather_df"
   ]
  },
  {
   "cell_type": "code",
   "execution_count": 9,
   "metadata": {},
   "outputs": [],
   "source": [
    "graz_weather_df['timestamp'] = graz_weather_df['timestamp'].apply(parse_weather_timestamp).apply(timestamp_to_datetime)"
   ]
  },
  {
   "cell_type": "code",
   "execution_count": 10,
   "metadata": {},
   "outputs": [],
   "source": [
    "#graz_weather_df.index = graz_weather_df['timestamp']"
   ]
  },
  {
   "cell_type": "markdown",
   "metadata": {},
   "source": [
    "Loading the Energy Usage datasets and combining them into 1 dataframe\n"
   ]
  },
  {
   "cell_type": "code",
   "execution_count": 11,
   "metadata": {},
   "outputs": [],
   "source": [
    "#Coloumn names english translation:\n",
    "luftung_kalte = 'vent_cooling'\n"
   ]
  },
  {
   "cell_type": "code",
   "execution_count": 12,
   "metadata": {},
   "outputs": [],
   "source": [
    "luftung_kalte_df = pd.read_csv(\"../../data/WKZLüftungKälte_Wertebericht_220801091709.csv\",delimiter=';',names=['timestamp',luftung_kalte,'',' '], skiprows=9,encoding='unicode_escape',on_bad_lines='skip')\n"
   ]
  },
  {
   "cell_type": "code",
   "execution_count": 13,
   "metadata": {},
   "outputs": [],
   "source": [
    "#Dropping the last n=9 rows as they are not part of the dataset\n",
    "n = 9\n",
    "luftung_kalte_df.drop(luftung_kalte_df.tail(n).index, inplace = True)\n"
   ]
  },
  {
   "cell_type": "markdown",
   "metadata": {},
   "source": [
    "Removing bad dataframe coloumns"
   ]
  },
  {
   "cell_type": "code",
   "execution_count": 14,
   "metadata": {},
   "outputs": [],
   "source": [
    "#Coloumn names english translation:\n",
    "luftung_kalte = 'vent_cooling'"
   ]
  },
  {
   "cell_type": "code",
   "execution_count": 15,
   "metadata": {},
   "outputs": [],
   "source": [
    "luftung_kalte_df = luftung_kalte_df[['timestamp',luftung_kalte]]"
   ]
  },
  {
   "cell_type": "code",
   "execution_count": 16,
   "metadata": {},
   "outputs": [],
   "source": [
    "df = pd.DataFrame([])\n",
    "df['timestamp'] = luftung_kalte_df['timestamp']\n",
    "df['timestamp'] = df['timestamp'].apply(timestamp_to_datetime)\n",
    "df[luftung_kalte] = pd.to_numeric(luftung_kalte_df[luftung_kalte].str.replace(',','.'))"
   ]
  },
  {
   "cell_type": "code",
   "execution_count": 17,
   "metadata": {},
   "outputs": [],
   "source": [
    "graz_weather_df = graz_weather_df.set_index(graz_weather_df['timestamp'])\n",
    "df = df.set_index(df['timestamp'])"
   ]
  },
  {
   "cell_type": "code",
   "execution_count": 18,
   "metadata": {},
   "outputs": [],
   "source": [
    "graz_weather_df_upsampled = graz_weather_df[['Graz Temperature [2 m elevation corrected]',\n",
    "       'Graz Shortwave Radiation', 'Graz Direct Shortwave Radiation',\n",
    "       'Graz Diffuse Shortwave Radiation', 'Graz Relative Humidity [2 m]']].resample('15T').interpolate()\n",
    "#graz_weather_df_upsampled['timestamp'] = graz_weather_df_upsampled.index.to_series()"
   ]
  },
  {
   "cell_type": "markdown",
   "metadata": {},
   "source": [
    "### Interpolating weather data to be sampled every 15 mins"
   ]
  },
  {
   "cell_type": "code",
   "execution_count": 19,
   "metadata": {},
   "outputs": [],
   "source": [
    "'''\n",
    "It might make sense to interpolate weather data such that we have a reading for every 15 mins same as the energy data\n",
    "a good source might be: https://www.numpyninja.com/post/interpolation-using-pandas \n",
    "'''\n",
    "graz_weather_df_upsampled.reset_index(drop = True, inplace = True)\n",
    "df.reset_index(drop = True, inplace = True)\n",
    "\n",
    "df = pd.merge(df,graz_weather_df_upsampled,how='inner',left_index=True, right_index=True)"
   ]
  },
  {
   "cell_type": "code",
   "execution_count": 20,
   "metadata": {},
   "outputs": [],
   "source": [
    "df = df.dropna()"
   ]
  },
  {
   "cell_type": "code",
   "execution_count": 21,
   "metadata": {},
   "outputs": [
    {
     "data": {
      "text/html": [
       "<div>\n",
       "<style scoped>\n",
       "    .dataframe tbody tr th:only-of-type {\n",
       "        vertical-align: middle;\n",
       "    }\n",
       "\n",
       "    .dataframe tbody tr th {\n",
       "        vertical-align: top;\n",
       "    }\n",
       "\n",
       "    .dataframe thead th {\n",
       "        text-align: right;\n",
       "    }\n",
       "</style>\n",
       "<table border=\"1\" class=\"dataframe\">\n",
       "  <thead>\n",
       "    <tr style=\"text-align: right;\">\n",
       "      <th></th>\n",
       "      <th>timestamp</th>\n",
       "      <th>vent_cooling</th>\n",
       "      <th>Graz Temperature [2 m elevation corrected]</th>\n",
       "      <th>Graz Shortwave Radiation</th>\n",
       "      <th>Graz Direct Shortwave Radiation</th>\n",
       "      <th>Graz Diffuse Shortwave Radiation</th>\n",
       "      <th>Graz Relative Humidity [2 m]</th>\n",
       "    </tr>\n",
       "  </thead>\n",
       "  <tbody>\n",
       "    <tr>\n",
       "      <th>0</th>\n",
       "      <td>2021-06-14 00:15:00</td>\n",
       "      <td>0.0</td>\n",
       "      <td>4.32137</td>\n",
       "      <td>0.0000</td>\n",
       "      <td>0.000000</td>\n",
       "      <td>0.000000</td>\n",
       "      <td>73.0</td>\n",
       "    </tr>\n",
       "    <tr>\n",
       "      <th>1</th>\n",
       "      <td>2021-06-14 00:30:00</td>\n",
       "      <td>0.0</td>\n",
       "      <td>4.30637</td>\n",
       "      <td>0.0000</td>\n",
       "      <td>0.000000</td>\n",
       "      <td>0.000000</td>\n",
       "      <td>71.0</td>\n",
       "    </tr>\n",
       "    <tr>\n",
       "      <th>2</th>\n",
       "      <td>2021-06-14 00:45:00</td>\n",
       "      <td>0.0</td>\n",
       "      <td>4.29137</td>\n",
       "      <td>0.0000</td>\n",
       "      <td>0.000000</td>\n",
       "      <td>0.000000</td>\n",
       "      <td>69.0</td>\n",
       "    </tr>\n",
       "    <tr>\n",
       "      <th>3</th>\n",
       "      <td>2021-06-14 01:00:00</td>\n",
       "      <td>0.0</td>\n",
       "      <td>4.27637</td>\n",
       "      <td>0.0000</td>\n",
       "      <td>0.000000</td>\n",
       "      <td>0.000000</td>\n",
       "      <td>67.0</td>\n",
       "    </tr>\n",
       "    <tr>\n",
       "      <th>4</th>\n",
       "      <td>2021-06-14 01:15:00</td>\n",
       "      <td>0.0</td>\n",
       "      <td>4.26137</td>\n",
       "      <td>0.0000</td>\n",
       "      <td>0.000000</td>\n",
       "      <td>0.000000</td>\n",
       "      <td>65.0</td>\n",
       "    </tr>\n",
       "    <tr>\n",
       "      <th>...</th>\n",
       "      <td>...</td>\n",
       "      <td>...</td>\n",
       "      <td>...</td>\n",
       "      <td>...</td>\n",
       "      <td>...</td>\n",
       "      <td>...</td>\n",
       "      <td>...</td>\n",
       "    </tr>\n",
       "    <tr>\n",
       "      <th>39600</th>\n",
       "      <td>2022-07-31 12:15:00</td>\n",
       "      <td>0.0</td>\n",
       "      <td>9.17137</td>\n",
       "      <td>461.9100</td>\n",
       "      <td>275.060550</td>\n",
       "      <td>186.849460</td>\n",
       "      <td>42.0</td>\n",
       "    </tr>\n",
       "    <tr>\n",
       "      <th>39601</th>\n",
       "      <td>2022-07-31 12:30:00</td>\n",
       "      <td>0.0</td>\n",
       "      <td>9.68387</td>\n",
       "      <td>476.8175</td>\n",
       "      <td>285.217105</td>\n",
       "      <td>191.600403</td>\n",
       "      <td>41.5</td>\n",
       "    </tr>\n",
       "    <tr>\n",
       "      <th>39602</th>\n",
       "      <td>2022-07-31 12:45:00</td>\n",
       "      <td>0.0</td>\n",
       "      <td>10.19637</td>\n",
       "      <td>491.7250</td>\n",
       "      <td>295.373660</td>\n",
       "      <td>196.351345</td>\n",
       "      <td>41.0</td>\n",
       "    </tr>\n",
       "    <tr>\n",
       "      <th>39603</th>\n",
       "      <td>2022-07-31 13:00:00</td>\n",
       "      <td>0.0</td>\n",
       "      <td>10.70887</td>\n",
       "      <td>506.6325</td>\n",
       "      <td>305.530215</td>\n",
       "      <td>201.102287</td>\n",
       "      <td>40.5</td>\n",
       "    </tr>\n",
       "    <tr>\n",
       "      <th>39604</th>\n",
       "      <td>2022-07-31 13:15:00</td>\n",
       "      <td>0.0</td>\n",
       "      <td>11.22137</td>\n",
       "      <td>521.5400</td>\n",
       "      <td>315.686770</td>\n",
       "      <td>205.853230</td>\n",
       "      <td>40.0</td>\n",
       "    </tr>\n",
       "  </tbody>\n",
       "</table>\n",
       "<p>39605 rows × 7 columns</p>\n",
       "</div>"
      ],
      "text/plain": [
       "                timestamp  vent_cooling  \\\n",
       "0     2021-06-14 00:15:00           0.0   \n",
       "1     2021-06-14 00:30:00           0.0   \n",
       "2     2021-06-14 00:45:00           0.0   \n",
       "3     2021-06-14 01:00:00           0.0   \n",
       "4     2021-06-14 01:15:00           0.0   \n",
       "...                   ...           ...   \n",
       "39600 2022-07-31 12:15:00           0.0   \n",
       "39601 2022-07-31 12:30:00           0.0   \n",
       "39602 2022-07-31 12:45:00           0.0   \n",
       "39603 2022-07-31 13:00:00           0.0   \n",
       "39604 2022-07-31 13:15:00           0.0   \n",
       "\n",
       "       Graz Temperature [2 m elevation corrected]  Graz Shortwave Radiation  \\\n",
       "0                                         4.32137                    0.0000   \n",
       "1                                         4.30637                    0.0000   \n",
       "2                                         4.29137                    0.0000   \n",
       "3                                         4.27637                    0.0000   \n",
       "4                                         4.26137                    0.0000   \n",
       "...                                           ...                       ...   \n",
       "39600                                     9.17137                  461.9100   \n",
       "39601                                     9.68387                  476.8175   \n",
       "39602                                    10.19637                  491.7250   \n",
       "39603                                    10.70887                  506.6325   \n",
       "39604                                    11.22137                  521.5400   \n",
       "\n",
       "       Graz Direct Shortwave Radiation  Graz Diffuse Shortwave Radiation  \\\n",
       "0                             0.000000                          0.000000   \n",
       "1                             0.000000                          0.000000   \n",
       "2                             0.000000                          0.000000   \n",
       "3                             0.000000                          0.000000   \n",
       "4                             0.000000                          0.000000   \n",
       "...                                ...                               ...   \n",
       "39600                       275.060550                        186.849460   \n",
       "39601                       285.217105                        191.600403   \n",
       "39602                       295.373660                        196.351345   \n",
       "39603                       305.530215                        201.102287   \n",
       "39604                       315.686770                        205.853230   \n",
       "\n",
       "       Graz Relative Humidity [2 m]  \n",
       "0                              73.0  \n",
       "1                              71.0  \n",
       "2                              69.0  \n",
       "3                              67.0  \n",
       "4                              65.0  \n",
       "...                             ...  \n",
       "39600                          42.0  \n",
       "39601                          41.5  \n",
       "39602                          41.0  \n",
       "39603                          40.5  \n",
       "39604                          40.0  \n",
       "\n",
       "[39605 rows x 7 columns]"
      ]
     },
     "execution_count": 21,
     "metadata": {},
     "output_type": "execute_result"
    }
   ],
   "source": [
    "df"
   ]
  },
  {
   "cell_type": "markdown",
   "metadata": {},
   "source": [
    "### Accounting for holidays and weekends"
   ]
  },
  {
   "cell_type": "code",
   "execution_count": 22,
   "metadata": {},
   "outputs": [],
   "source": [
    "df.index = df['timestamp']"
   ]
  },
  {
   "cell_type": "code",
   "execution_count": 23,
   "metadata": {},
   "outputs": [],
   "source": [
    "def get_is_schoolday(date_arg):\n",
    "    '''\n",
    "    arg: datetime object\n",
    "    returns 1: if it is a school day\n",
    "    returns 0: if date is either in the weekend, a public holiday or during school break in styria\n",
    "    '''\n",
    "    #initilising to bad dates\n",
    "    semester_break_start = datetime.date(1999,1,1)\n",
    "    semester_break_end = datetime.date(1999,1,1)\n",
    "    easter_start = datetime.date(1999,1,1)\n",
    "    easter_end = datetime.date(1999,1,1)\n",
    "    pentecost_start = datetime.date(1999,1,1)\n",
    "    pentecost_end = datetime.date(1999,1,1)\n",
    "    summer_start = datetime.date(1999,1,1)\n",
    "    summer_end = datetime.date(1999,1,1)\n",
    "    autumn_start = datetime.date(1999,1,1)\n",
    "    autumn_end = datetime.date(1999,1,1)\n",
    "    christmas_start = datetime.date(1999,1,1)\n",
    "    christmas_end = datetime.date(1999,1,1)\n",
    "\n",
    "    if date_arg.year == 2021:\n",
    "        semester_break_start = datetime.date(2021,2,15)\n",
    "        semester_break_end = datetime.date(2021,2,21)\n",
    "        easter_start = datetime.date(2021,3,27)\n",
    "        easter_end = datetime.date(2021,4,5)\n",
    "        pentecost_start = datetime.date(2021,5,22)\n",
    "        pentecost_end = datetime.date(2021,5,24)\n",
    "        summer_start = datetime.date(2021,7,10)\n",
    "        summer_end = datetime.date(2021,9,12)\n",
    "        autumn_start = datetime.date(2021,10,27)\n",
    "        autumn_end = datetime.date(2021,10,31)\n",
    "        christmas_start = datetime.date(2021,12,24)\n",
    "        christmas_end = datetime.date(2022,1,6)\n",
    "       \n",
    "    elif date_arg.year == 2022:\n",
    "        semester_break_start = datetime.date(2022,2,21)\n",
    "        semester_break_end = datetime.date(2022,2,21)\n",
    "        easter_start = datetime.date(2022,4,9)\n",
    "        easter_end = datetime.date(2022,4,18)\n",
    "        pentecost_start = datetime.date(2022,6,4)\n",
    "        pentecost_end = datetime.date(2022,6,6)\n",
    "        summer_start = datetime.date(2022,7,9)\n",
    "        summer_end = datetime.date(2022,9,11)\n",
    "        autumn_start = datetime.date(2022,10,27)\n",
    "        autumn_end = datetime.date(2022,10,31)\n",
    "        christmas_start = datetime.date(2022,12,24)\n",
    "        christmas_end = datetime.date(2023,1,7)\n",
    "\n",
    "    \n",
    "    if semester_break_start <= date_arg.date() <= semester_break_end:\n",
    "        return 0\n",
    "    elif easter_start <= date_arg.date() <= easter_end:\n",
    "        return 0\n",
    "    elif pentecost_start <= date_arg.date() <= pentecost_end:\n",
    "        return 0\n",
    "    elif summer_start <= date_arg.date() <=  summer_end:\n",
    "        return 0\n",
    "    elif autumn_start <= date_arg.date() <= autumn_end:\n",
    "        return 0\n",
    "    elif christmas_start <= date_arg.date() <= christmas_end:\n",
    "        return 0\n",
    "    elif date_arg.date() in holidays_AT:\n",
    "        return 0\n",
    "    elif 5 <= date_arg.weekday() <= 6:\n",
    "        \n",
    "        return 0\n",
    "\n",
    "    else:\n",
    "        return 1\n",
    "    "
   ]
  },
  {
   "cell_type": "code",
   "execution_count": 24,
   "metadata": {},
   "outputs": [],
   "source": [
    "df['is_schoolday'] = df['timestamp'].apply(get_is_schoolday)"
   ]
  },
  {
   "cell_type": "code",
   "execution_count": 25,
   "metadata": {},
   "outputs": [],
   "source": [
    "df['day'] = [x.day for x in df['timestamp']]\n",
    "df['month'] = [x.month for x in df['timestamp']]\n",
    "df['year'] = [x.year for x in df['timestamp']]\n",
    "df['hour'] = [x.hour for x in df['timestamp']]\n",
    "#minute not imp if we're sampling hourly\n",
    "#df['minute'] = [x.minute for x in df['timestamp']] "
   ]
  },
  {
   "cell_type": "code",
   "execution_count": 26,
   "metadata": {},
   "outputs": [],
   "source": [
    "df.to_csv('../../data/preprocessed/luftung_kalte_weather.csv',index=False)"
   ]
  }
 ],
 "metadata": {
  "kernelspec": {
   "display_name": "Python 3.8.10 ('scs': venv)",
   "language": "python",
   "name": "python3"
  },
  "language_info": {
   "codemirror_mode": {
    "name": "ipython",
    "version": 3
   },
   "file_extension": ".py",
   "mimetype": "text/x-python",
   "name": "python",
   "nbconvert_exporter": "python",
   "pygments_lexer": "ipython3",
   "version": "3.8.10"
  },
  "orig_nbformat": 4,
  "vscode": {
   "interpreter": {
    "hash": "e043919b94825cf8de930cbcec895040cfad3e5ea91d7ee03b07ea5a7f5b1ff3"
   }
  }
 },
 "nbformat": 4,
 "nbformat_minor": 2
}
