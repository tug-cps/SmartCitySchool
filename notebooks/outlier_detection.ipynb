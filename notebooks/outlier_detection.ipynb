{
 "cells": [
  {
   "cell_type": "code",
   "execution_count": 37,
   "metadata": {},
   "outputs": [],
   "source": [
    "import pandas as pd\n",
    "import numpy as np\n",
    "import seaborn as sns\n",
    "import datetime\n",
    "import matplotlib.pyplot as plt"
   ]
  },
  {
   "cell_type": "code",
   "execution_count": 38,
   "metadata": {},
   "outputs": [],
   "source": [
    "df = pd.read_csv(\"../data/energy_and_weather.csv\",delimiter=',',encoding='UTF-8')"
   ]
  },
  {
   "cell_type": "code",
   "execution_count": 39,
   "metadata": {},
   "outputs": [],
   "source": [
    "df = df[['timestamp','electricity_usage', 'Graz Temperature [2 m elevation corrected]', 'Graz Shortwave Radiation', 'Graz Direct Shortwave Radiation',\n",
    "       'Graz Diffuse Shortwave Radiation', 'Graz Relative Humidity [2 m]',\n",
    "       'is_schoolday', 'day', 'month', 'year', 'hour']]"
   ]
  },
  {
   "cell_type": "code",
   "execution_count": 40,
   "metadata": {},
   "outputs": [
    {
     "data": {
      "text/html": [
       "<div>\n",
       "<style scoped>\n",
       "    .dataframe tbody tr th:only-of-type {\n",
       "        vertical-align: middle;\n",
       "    }\n",
       "\n",
       "    .dataframe tbody tr th {\n",
       "        vertical-align: top;\n",
       "    }\n",
       "\n",
       "    .dataframe thead th {\n",
       "        text-align: right;\n",
       "    }\n",
       "</style>\n",
       "<table border=\"1\" class=\"dataframe\">\n",
       "  <thead>\n",
       "    <tr style=\"text-align: right;\">\n",
       "      <th></th>\n",
       "      <th>electricity_usage</th>\n",
       "      <th>Graz Temperature [2 m elevation corrected]</th>\n",
       "      <th>Graz Shortwave Radiation</th>\n",
       "      <th>Graz Direct Shortwave Radiation</th>\n",
       "      <th>Graz Diffuse Shortwave Radiation</th>\n",
       "      <th>Graz Relative Humidity [2 m]</th>\n",
       "      <th>is_schoolday</th>\n",
       "      <th>day</th>\n",
       "      <th>month</th>\n",
       "      <th>year</th>\n",
       "      <th>hour</th>\n",
       "    </tr>\n",
       "  </thead>\n",
       "  <tbody>\n",
       "    <tr>\n",
       "      <th>count</th>\n",
       "      <td>4824.000000</td>\n",
       "      <td>4824.000000</td>\n",
       "      <td>4824.000000</td>\n",
       "      <td>4824.000000</td>\n",
       "      <td>4824.000000</td>\n",
       "      <td>4824.000000</td>\n",
       "      <td>4824.000000</td>\n",
       "      <td>4824.000000</td>\n",
       "      <td>4824.000000</td>\n",
       "      <td>4824.000000</td>\n",
       "      <td>4824.000000</td>\n",
       "    </tr>\n",
       "    <tr>\n",
       "      <th>mean</th>\n",
       "      <td>1.703868</td>\n",
       "      <td>14.924981</td>\n",
       "      <td>180.286804</td>\n",
       "      <td>109.849497</td>\n",
       "      <td>70.437306</td>\n",
       "      <td>61.180348</td>\n",
       "      <td>0.437604</td>\n",
       "      <td>16.355514</td>\n",
       "      <td>9.197968</td>\n",
       "      <td>2021.000207</td>\n",
       "      <td>11.500000</td>\n",
       "    </tr>\n",
       "    <tr>\n",
       "      <th>std</th>\n",
       "      <td>1.514367</td>\n",
       "      <td>8.830604</td>\n",
       "      <td>246.010558</td>\n",
       "      <td>161.140322</td>\n",
       "      <td>89.518911</td>\n",
       "      <td>13.795965</td>\n",
       "      <td>0.496143</td>\n",
       "      <td>8.763619</td>\n",
       "      <td>1.909085</td>\n",
       "      <td>0.014398</td>\n",
       "      <td>6.922904</td>\n",
       "    </tr>\n",
       "    <tr>\n",
       "      <th>min</th>\n",
       "      <td>0.000000</td>\n",
       "      <td>-3.458630</td>\n",
       "      <td>0.000000</td>\n",
       "      <td>-8.570068</td>\n",
       "      <td>0.000000</td>\n",
       "      <td>28.000000</td>\n",
       "      <td>0.000000</td>\n",
       "      <td>1.000000</td>\n",
       "      <td>1.000000</td>\n",
       "      <td>2021.000000</td>\n",
       "      <td>0.000000</td>\n",
       "    </tr>\n",
       "    <tr>\n",
       "      <th>25%</th>\n",
       "      <td>0.740000</td>\n",
       "      <td>7.461370</td>\n",
       "      <td>0.000000</td>\n",
       "      <td>0.000000</td>\n",
       "      <td>0.000000</td>\n",
       "      <td>51.000000</td>\n",
       "      <td>0.000000</td>\n",
       "      <td>9.000000</td>\n",
       "      <td>8.000000</td>\n",
       "      <td>2021.000000</td>\n",
       "      <td>5.750000</td>\n",
       "    </tr>\n",
       "    <tr>\n",
       "      <th>50%</th>\n",
       "      <td>1.120000</td>\n",
       "      <td>15.471369</td>\n",
       "      <td>12.460000</td>\n",
       "      <td>3.896466</td>\n",
       "      <td>5.975124</td>\n",
       "      <td>61.000000</td>\n",
       "      <td>0.000000</td>\n",
       "      <td>17.000000</td>\n",
       "      <td>9.000000</td>\n",
       "      <td>2021.000000</td>\n",
       "      <td>11.500000</td>\n",
       "    </tr>\n",
       "    <tr>\n",
       "      <th>75%</th>\n",
       "      <td>3.072500</td>\n",
       "      <td>22.201370</td>\n",
       "      <td>329.300000</td>\n",
       "      <td>187.765255</td>\n",
       "      <td>140.326493</td>\n",
       "      <td>71.000000</td>\n",
       "      <td>1.000000</td>\n",
       "      <td>24.000000</td>\n",
       "      <td>11.000000</td>\n",
       "      <td>2021.000000</td>\n",
       "      <td>17.250000</td>\n",
       "    </tr>\n",
       "    <tr>\n",
       "      <th>max</th>\n",
       "      <td>8.420000</td>\n",
       "      <td>34.121372</td>\n",
       "      <td>888.220000</td>\n",
       "      <td>603.423100</td>\n",
       "      <td>295.416660</td>\n",
       "      <td>98.000000</td>\n",
       "      <td>1.000000</td>\n",
       "      <td>31.000000</td>\n",
       "      <td>12.000000</td>\n",
       "      <td>2022.000000</td>\n",
       "      <td>23.000000</td>\n",
       "    </tr>\n",
       "  </tbody>\n",
       "</table>\n",
       "</div>"
      ],
      "text/plain": [
       "       electricity_usage  Graz Temperature [2 m elevation corrected]  \\\n",
       "count        4824.000000                                 4824.000000   \n",
       "mean            1.703868                                   14.924981   \n",
       "std             1.514367                                    8.830604   \n",
       "min             0.000000                                   -3.458630   \n",
       "25%             0.740000                                    7.461370   \n",
       "50%             1.120000                                   15.471369   \n",
       "75%             3.072500                                   22.201370   \n",
       "max             8.420000                                   34.121372   \n",
       "\n",
       "       Graz Shortwave Radiation  Graz Direct Shortwave Radiation  \\\n",
       "count               4824.000000                      4824.000000   \n",
       "mean                 180.286804                       109.849497   \n",
       "std                  246.010558                       161.140322   \n",
       "min                    0.000000                        -8.570068   \n",
       "25%                    0.000000                         0.000000   \n",
       "50%                   12.460000                         3.896466   \n",
       "75%                  329.300000                       187.765255   \n",
       "max                  888.220000                       603.423100   \n",
       "\n",
       "       Graz Diffuse Shortwave Radiation  Graz Relative Humidity [2 m]  \\\n",
       "count                       4824.000000                   4824.000000   \n",
       "mean                          70.437306                     61.180348   \n",
       "std                           89.518911                     13.795965   \n",
       "min                            0.000000                     28.000000   \n",
       "25%                            0.000000                     51.000000   \n",
       "50%                            5.975124                     61.000000   \n",
       "75%                          140.326493                     71.000000   \n",
       "max                          295.416660                     98.000000   \n",
       "\n",
       "       is_schoolday          day        month         year         hour  \n",
       "count   4824.000000  4824.000000  4824.000000  4824.000000  4824.000000  \n",
       "mean       0.437604    16.355514     9.197968  2021.000207    11.500000  \n",
       "std        0.496143     8.763619     1.909085     0.014398     6.922904  \n",
       "min        0.000000     1.000000     1.000000  2021.000000     0.000000  \n",
       "25%        0.000000     9.000000     8.000000  2021.000000     5.750000  \n",
       "50%        0.000000    17.000000     9.000000  2021.000000    11.500000  \n",
       "75%        1.000000    24.000000    11.000000  2021.000000    17.250000  \n",
       "max        1.000000    31.000000    12.000000  2022.000000    23.000000  "
      ]
     },
     "execution_count": 40,
     "metadata": {},
     "output_type": "execute_result"
    }
   ],
   "source": [
    "df.describe()"
   ]
  },
  {
   "cell_type": "code",
   "execution_count": 41,
   "metadata": {},
   "outputs": [],
   "source": [
    "Q1,Q3 = np.percentile(df['electricity_usage'] , [25,75])\n",
    "IQR = Q3 - Q1\n",
    "ul = Q3+1.5*IQR\n",
    "ll = Q1-1.5*IQR"
   ]
  },
  {
   "cell_type": "code",
   "execution_count": 42,
   "metadata": {},
   "outputs": [],
   "source": [
    "outliers = df['electricity_usage'][(df['electricity_usage'] > ul) | (df['electricity_usage'] < ll)]\n"
   ]
  },
  {
   "cell_type": "code",
   "execution_count": 43,
   "metadata": {},
   "outputs": [
    {
     "data": {
      "text/plain": [
       "<AxesSubplot: >"
      ]
     },
     "execution_count": 43,
     "metadata": {},
     "output_type": "execute_result"
    },
    {
     "data": {
      "image/png": "[encoded data removed]",
      "text/plain": [
       "<Figure size 640x480 with 1 Axes>"
      ]
     },
     "metadata": {},
     "output_type": "display_data"
    }
   ],
   "source": [
    "sns.boxplot(df['electricity_usage'])"
   ]
  },
  {
   "cell_type": "code",
   "execution_count": 44,
   "metadata": {},
   "outputs": [],
   "source": [
    "df_no_outliers = pd.merge(df,outliers, indicator=True, how='outer').query('_merge==\"left_only\"').drop('_merge', axis=1)"
   ]
  },
  {
   "cell_type": "code",
   "execution_count": 45,
   "metadata": {},
   "outputs": [
    {
     "data": {
      "text/plain": [
       "<AxesSubplot: >"
      ]
     },
     "execution_count": 45,
     "metadata": {},
     "output_type": "execute_result"
    },
    {
     "data": {
      "image/png": "[encoded data removed]",
      "text/plain": [
       "<Figure size 640x480 with 1 Axes>"
      ]
     },
     "metadata": {},
     "output_type": "display_data"
    }
   ],
   "source": [
    "sns.boxplot(df_no_outliers['electricity_usage'])"
   ]
  }
 ],
 "metadata": {
  "kernelspec": {
   "display_name": "Python 3.8.10 ('scs': venv)",
   "language": "python",
   "name": "python3"
  },
  "language_info": {
   "codemirror_mode": {
    "name": "ipython",
    "version": 3
   },
   "file_extension": ".py",
   "mimetype": "text/x-python",
   "name": "python",
   "nbconvert_exporter": "python",
   "pygments_lexer": "ipython3",
   "version": "3.8.10"
  },
  "orig_nbformat": 4,
  "vscode": {
   "interpreter": {
    "hash": "e043919b94825cf8de930cbcec895040cfad3e5ea91d7ee03b07ea5a7f5b1ff3"
   }
  }
 },
 "nbformat": 4,
 "nbformat_minor": 2
}
