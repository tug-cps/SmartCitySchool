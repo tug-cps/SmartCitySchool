{
 "cells": [
  {
   "cell_type": "code",
   "execution_count": null,
   "metadata": {},
   "outputs": [],
   "source": [
    "import pandas as pd\n",
    "import numpy as np\n",
    "import seaborn as sns\n",
    "import datetime\n",
    "import matplotlib.pyplot as plt"
   ]
  },
  {
   "cell_type": "code",
   "execution_count": null,
   "metadata": {},
   "outputs": [],
   "source": [
    "graz_weather_df = pd.read_csv(\"../../data/graz_weather.csv\",delimiter=',',header=9,encoding='UTF-8')\n"
   ]
  },
  {
   "cell_type": "code",
   "execution_count": null,
   "metadata": {},
   "outputs": [],
   "source": [
    "def parse_weather_timestamp(timestamp):\n",
    "    return(timestamp[6:8]+ '.' + timestamp[4:6] + '.' + timestamp[2:4] + ' ' + timestamp[9:11] + ':' + timestamp[11:])\n",
    "\n",
    "def timestamp_to_datetime(timestamp):\n",
    "    date_str = timestamp.split(' ')[0]\n",
    "    time_str = timestamp.split(' ')[1]\n",
    "    datetime_obj = datetime.datetime(int('20'+date_str.split('.')[2]), int(date_str.split('.')[1] ), int(date_str.split('.')[0]),int(time_str[:2]), int(time_str[-2:]))\n",
    "    return datetime_obj\n",
    "\n",
    "    "
   ]
  },
  {
   "cell_type": "code",
   "execution_count": null,
   "metadata": {},
   "outputs": [],
   "source": [
    "graz_weather_df['timestamp'] = graz_weather_df['timestamp'].apply(parse_weather_timestamp).apply(timestamp_to_datetime)"
   ]
  },
  {
   "cell_type": "markdown",
   "metadata": {},
   "source": [
    "Considering only data for which we have energy data"
   ]
  },
  {
   "cell_type": "code",
   "execution_count": null,
   "metadata": {},
   "outputs": [],
   "source": [
    "df = graz_weather_df[['timestamp','Graz Temperature [2 m elevation corrected]', 'Graz Shortwave Radiation', 'Graz Direct Shortwave Radiation',\n",
    "       'Graz Diffuse Shortwave Radiation', 'Graz Relative Humidity [2 m]']].loc[graz_weather_df['timestamp'] > datetime.datetime(2021,6,13)]\n",
    "df = df.loc[df['timestamp'] < datetime.datetime(2022,1,2)]"
   ]
  },
  {
   "cell_type": "code",
   "execution_count": null,
   "metadata": {},
   "outputs": [],
   "source": [
    "df.describe()"
   ]
  },
  {
   "cell_type": "markdown",
   "metadata": {},
   "source": [
    "## Checking Temperature outliers"
   ]
  },
  {
   "cell_type": "code",
   "execution_count": null,
   "metadata": {},
   "outputs": [],
   "source": [
    "plt.rc('figure',figsize=(16,6))\n",
    "plt.rc('font',size=15)\n",
    "fig, ax = plt.subplots()\n",
    "x = df['timestamp']\n",
    "y = df['Graz Temperature [2 m elevation corrected]']\n",
    "ax.plot_date(x, y, color='black',linestyle='--')\n",
    "fig.autofmt_xdate()\n",
    "plt.title('Temperature against Time')\n",
    "plt.ylabel(ylabel='Temperature (℃)')\n",
    "plt.savefig('plots/weather/temperature/temperature_full.png')\n",
    "plt.show()"
   ]
  },
  {
   "cell_type": "code",
   "execution_count": null,
   "metadata": {},
   "outputs": [],
   "source": [
    "n = 730 #one month\n",
    "plot = 0\n",
    "\n",
    "while n-730 <= len(df):\n",
    "    plt.rc('figure',figsize=(16,6))\n",
    "    plt.rc('font',size=15)\n",
    "    fig, ax = plt.subplots()\n",
    "    x = df['timestamp'][n-730:n] \n",
    "    y = df['Graz Temperature [2 m elevation corrected]'][n-730:n]\n",
    "    ax.plot_date(x, y, color='black',linestyle='--')\n",
    "    fig.autofmt_xdate()\n",
    "    plt.title('Temperature against Time')\n",
    "    plt.ylabel(ylabel='Temperature (℃)')\n",
    "    plt.savefig('plots/weather/temperature/temperature_'+ str(plot) +'.png')\n",
    "    plt.show()\n",
    "    n+= 730\n",
    "    plot += 1\n",
    "    \n"
   ]
  },
  {
   "cell_type": "code",
   "execution_count": null,
   "metadata": {},
   "outputs": [],
   "source": [
    "Q1,Q3 = np.percentile(df['Graz Temperature [2 m elevation corrected]'] , [25,75])\n",
    "IQR = Q3 - Q1\n",
    "print(IQR)\n",
    "ul = Q3+1.5*IQR\n",
    "ll = Q1-1.5*IQR"
   ]
  },
  {
   "cell_type": "code",
   "execution_count": null,
   "metadata": {},
   "outputs": [],
   "source": [
    "outliers = df['Graz Temperature [2 m elevation corrected]'][(df['Graz Temperature [2 m elevation corrected]'] > ul) | (df['Graz Temperature [2 m elevation corrected]'] < ll)]\n"
   ]
  },
  {
   "cell_type": "code",
   "execution_count": null,
   "metadata": {},
   "outputs": [],
   "source": [
    "outliers"
   ]
  },
  {
   "cell_type": "code",
   "execution_count": null,
   "metadata": {},
   "outputs": [],
   "source": [
    "#sns.boxplot(df['Graz Temperature [2 m elevation corrected]'])"
   ]
  },
  {
   "cell_type": "code",
   "execution_count": null,
   "metadata": {},
   "outputs": [],
   "source": [
    "df_no_outliers = pd.merge(df,outliers, indicator=True, how='outer').query('_merge==\"left_only\"').drop('_merge', axis=1)"
   ]
  },
  {
   "cell_type": "code",
   "execution_count": null,
   "metadata": {},
   "outputs": [],
   "source": [
    "sns.boxplot(df_no_outliers['Graz Temperature [2 m elevation corrected]'])"
   ]
  },
  {
   "cell_type": "markdown",
   "metadata": {},
   "source": [
    "From above we can observe that no significant outliers were detected for Graz Temperature [2 m elevation corrected] using this method. "
   ]
  },
  {
   "cell_type": "markdown",
   "metadata": {},
   "source": [
    "## Checking Graz Shortwave Radiation outliers"
   ]
  },
  {
   "cell_type": "markdown",
   "metadata": {},
   "source": [
    "Since the 'normal' acceptable radiation value varies so much from july to january, outliers will be identified month by month"
   ]
  },
  {
   "cell_type": "code",
   "execution_count": null,
   "metadata": {},
   "outputs": [],
   "source": [
    "plt.rc('figure',figsize=(16,6))\n",
    "plt.rc('font',size=15)\n",
    "fig, ax = plt.subplots()\n",
    "x = df['timestamp']\n",
    "y = df['Graz Shortwave Radiation']\n",
    "ax.plot_date(x, y, color='black',linestyle='--')\n",
    "\n",
    "plt.title(\"Shortwave Radiation\")\n",
    "plt.ylabel('Radiation (W/m²)')\n",
    "plt.savefig('plots/weather/shortwave_radiation/shortwave_radiation_full.png')\n",
    "fig.autofmt_xdate()\n",
    "plt.show()"
   ]
  },
  {
   "cell_type": "code",
   "execution_count": null,
   "metadata": {},
   "outputs": [],
   "source": [
    "n = 730 #one month\n",
    "plot = 0\n",
    "\n",
    "while n-730 <= len(df):\n",
    "    \n",
    "    plt.rc('figure',figsize=(16,6))\n",
    "    plt.rc('font',size=15)\n",
    "    \n",
    "    fig, ax = plt.subplots()\n",
    "    x = df['timestamp'][n-730:n] \n",
    "    y = df['Graz Shortwave Radiation'][n-730:n]\n",
    "    ax.plot_date(x, y, color='black',linestyle='--')\n",
    "    \n",
    "    plt.title(\"Shortwave Radiation Month: \"+str((plot+5)%12 +1))\n",
    "    plt.ylabel('Radiation (W/m²)')\n",
    "    fig.autofmt_xdate()\n",
    "    plt.savefig('plots/weather/shortwave_radiation/shortwave_radiation_'+str(plot)+'.png')\n",
    "    plt.show()\n",
    "    n+= 730\n",
    "    plot += 1\n",
    "\n"
   ]
  },
  {
   "cell_type": "markdown",
   "metadata": {},
   "source": [
    "Using the IQR method is not possible for radiation\n",
    "\n",
    "From the above plots we can see that the following dates have outliers:\n",
    "\n",
    "2021-07-02 \\\n",
    "2021-07-17 \\\n",
    "2021-07-27 \\\n",
    "2021-07-31 \\\n",
    "2021-08-05 \\\n",
    "2021-08-23 \\\n",
    "2021-09-20 \\\n",
    "2021-09-30 \\\n",
    "2021-10-06 \\\n",
    "2021-10-07 \\\n",
    "2021-10-22 \\\n",
    "2021-11-02 \\\n",
    "2021-11-14 \\\n",
    "2021-11-26 \\\n",
    "2021-11-31 \\\n",
    "2021-12-02 \\\n",
    "2021-12-05 \\\n",
    "2021-12-09 \\\n",
    "2021-12-13 \\\n",
    "2021-12-23"
   ]
  },
  {
   "cell_type": "markdown",
   "metadata": {},
   "source": [
    "## Checking Graz Direct Shortwave Radiation outliers"
   ]
  },
  {
   "cell_type": "code",
   "execution_count": null,
   "metadata": {},
   "outputs": [],
   "source": [
    "plt.rc('figure',figsize=(16,6))\n",
    "plt.rc('font',size=15)\n",
    "fig, ax = plt.subplots()\n",
    "x = df['timestamp']\n",
    "y = df['Graz Direct Shortwave Radiation']\n",
    "\n",
    "plt.title(\"Direct Shortwave Radiation Month: \"+str((plot+5)%12 +1))\n",
    "plt.ylabel('Radiation (W/m^2)')\n",
    "ax.plot_date(x, y, color='black',linestyle='--')\n",
    "fig.autofmt_xdate()\n",
    "plt.savefig('plots/weather/direct_shortwave_radiation/direct_shortwave_full.png')\n",
    "plt.show()"
   ]
  },
  {
   "cell_type": "code",
   "execution_count": null,
   "metadata": {},
   "outputs": [],
   "source": [
    "n = 730 #one month\n",
    "plot = 0\n",
    "\n",
    "while n-730 <= len(df):\n",
    "    \n",
    "    plt.rc('figure',figsize=(16,6))\n",
    "    plt.rc('font',size=15)\n",
    "    \n",
    "    fig, ax = plt.subplots()\n",
    "    x = df['timestamp'][n-730:n] \n",
    "    y = df['Graz Direct Shortwave Radiation'][n-730:n]\n",
    "    ax.plot_date(x, y, color='black',linestyle='--')\n",
    "    \n",
    "    plt.title(\"Direct Shortwave Radiation Month: \"+str((plot+5)%12 +1))\n",
    "    plt.ylabel('Radiation (W/m^2)')\n",
    "    fig.autofmt_xdate()\n",
    "    plt.show()\n",
    "    plt.savefig('plots/weather/direct_shortwave_radiation/direct_shortwave_radiation_'+str(plot)+'.png')\n",
    "    n+= 730\n",
    "    plot += 1\n",
    "    \n"
   ]
  },
  {
   "cell_type": "markdown",
   "metadata": {},
   "source": [
    "## Checking Graz Diffuse Shortwave Radiation outliers"
   ]
  },
  {
   "cell_type": "code",
   "execution_count": null,
   "metadata": {},
   "outputs": [],
   "source": [
    "plt.rc('figure',figsize=(16,6))\n",
    "plt.rc('font',size=15)\n",
    "fig, ax = plt.subplots()\n",
    "x = df['timestamp']\n",
    "y = df['Graz Diffuse Shortwave Radiation']\n",
    "\n",
    "plt.title(\"Diffuse Shortwave Radiation Month: \"+str((plot+5)%12 +1))\n",
    "plt.ylabel('Radiation (W/m^2)')\n",
    "ax.plot_date(x, y, color='black',linestyle='--')\n",
    "fig.autofmt_xdate()\n",
    "plt.savefig('plots/weather/diffuse_shortwave_radiation/diffuse_shortwave_radiation_full.png')\n",
    "plt.show()"
   ]
  },
  {
   "cell_type": "code",
   "execution_count": null,
   "metadata": {},
   "outputs": [],
   "source": [
    "n = 730 #one month\n",
    "plot = 0\n",
    "\n",
    "while n-730 <= len(df):\n",
    "    \n",
    "    plt.rc('figure',figsize=(16,6))\n",
    "    plt.rc('font',size=15)\n",
    "    \n",
    "    fig, ax = plt.subplots()\n",
    "    x = df['timestamp'][n-730:n] \n",
    "    y = df['Graz Diffuse Shortwave Radiation'][n-730:n]\n",
    "    ax.plot_date(x, y, color='black',linestyle='--')\n",
    "    \n",
    "    plt.title(\"Diffuse Shortwave Radiation Month: \"+str((plot+5)%12 +1))\n",
    "    plt.ylabel('Radiation (W/m^2)')\n",
    "    fig.autofmt_xdate()\n",
    "    plt.savefig('plots/weather/diffuse_shortwave_radiation/diffuse_shortwave_radiation_'+str(plot)+'.png')\n",
    "    plt.show()\n",
    "    n+= 730\n",
    "    plot += 1\n"
   ]
  },
  {
   "cell_type": "markdown",
   "metadata": {},
   "source": [
    "## Checking Graz Relative Humidity outliers"
   ]
  },
  {
   "cell_type": "code",
   "execution_count": null,
   "metadata": {},
   "outputs": [],
   "source": [
    "plt.rc('figure',figsize=(16,6))\n",
    "plt.rc('font',size=15)\n",
    "fig, ax = plt.subplots()\n",
    "x = df['timestamp']\n",
    "y = df['Graz Relative Humidity [2 m]']\n",
    "ax.plot_date(x, y, color='black',linestyle='--')\n",
    "fig.autofmt_xdate()\n",
    "plt.savefig('plots/weather/relative_humidity/relative_humidity_full.png')\n",
    "plt.show()"
   ]
  },
  {
   "cell_type": "code",
   "execution_count": null,
   "metadata": {},
   "outputs": [],
   "source": [
    "n = 730 #one month\n",
    "plot = 0\n",
    "\n",
    "while n-730 <= len(df):\n",
    "    \n",
    "    plt.rc('figure',figsize=(16,6))\n",
    "    plt.rc('font',size=15)\n",
    "    \n",
    "    fig, ax = plt.subplots()\n",
    "    x = df['timestamp'][n-730:n] \n",
    "    y = df['Graz Relative Humidity [2 m]'][n-730:n]\n",
    "    ax.plot_date(x, y, color='black',linestyle='--')\n",
    "    \n",
    "    plt.title(\"Relative Humidity Month: \"+str((plot+5)%12 +1))\n",
    "    fig.autofmt_xdate()\n",
    "    plt.savefig('plots/weather/relative_humidity/relative_humidity_'+str(plot)+'.png')\n",
    "    plt.show()\n",
    "    n+= 730\n",
    "    plot += 1\n"
   ]
  },
  {
   "cell_type": "markdown",
   "metadata": {},
   "source": [
    "2021-07-02 \\\n",
    "2021-08-05 \\\n",
    "2021-08-27 \\\n",
    "2021-09-20 \\\n",
    "2021-10-03 \\\n",
    "\n"
   ]
  },
  {
   "cell_type": "markdown",
   "metadata": {},
   "source": [
    "Humidity Outliers:\n",
    "\n",
    "02/07/2022 \\\n"
   ]
  },
  {
   "cell_type": "markdown",
   "metadata": {},
   "source": [
    "What should we do with ouliers?\n",
    "\n",
    "- We cannot remove then - will disrupt the time series pattern\n",
    "- Replace them with what value then?\n",
    "\n",
    "\n",
    "I need to plot the graphs of the data before interpolating gaps to fill every 15 mins"
   ]
  },
  {
   "cell_type": "code",
   "execution_count": null,
   "metadata": {},
   "outputs": [],
   "source": []
  }
 ],
 "metadata": {
  "kernelspec": {
   "display_name": "Python 3.8.10 ('scs': venv)",
   "language": "python",
   "name": "python3"
  },
  "language_info": {
   "codemirror_mode": {
    "name": "ipython",
    "version": 3
   },
   "file_extension": ".py",
   "mimetype": "text/x-python",
   "name": "python",
   "nbconvert_exporter": "python",
   "pygments_lexer": "ipython3",
   "version": "3.8.10"
  },
  "orig_nbformat": 4,
  "vscode": {
   "interpreter": {
    "hash": "e043919b94825cf8de930cbcec895040cfad3e5ea91d7ee03b07ea5a7f5b1ff3"
   }
  }
 },
 "nbformat": 4,
 "nbformat_minor": 2
}
